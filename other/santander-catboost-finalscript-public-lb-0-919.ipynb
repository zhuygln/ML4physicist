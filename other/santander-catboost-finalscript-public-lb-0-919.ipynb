{
 "cells": [
  {
   "cell_type": "markdown",
   "metadata": {},
   "source": [
    "The final version of my decision.\n",
    "\n",
    "Many thanks to the guys whose public kernels helped create this script - @zxspectrum and @ yag320"
   ]
  },
  {
   "cell_type": "code",
   "execution_count": 1,
   "metadata": {},
   "outputs": [],
   "source": [
    "import math\n",
    "import pandas as pd\n",
    "from itertools import islice\n",
    "import numpy as np\n",
    "import lightgbm as lgb\n",
    "from sklearn.metrics import roc_auc_score\n",
    "from sklearn.model_selection import StratifiedKFold\n",
    "import seaborn as sns\n",
    "import logging\n",
    "from tqdm import tqdm\n",
    "import category_encoders\n",
    "from sklearn.model_selection import TimeSeriesSplit\n",
    "from sklearn.preprocessing import LabelEncoder, scale, MinMaxScaler, Normalizer, QuantileTransformer, PowerTransformer, StandardScaler\n",
    "from scipy.stats import boxcox\n",
    "import math\n",
    "from sklearn.preprocessing import KBinsDiscretizer\n",
    "from catboost import Pool, CatBoostClassifier\n",
    "\n",
    "pd.set_option('display.max_rows', 500)\n",
    "pd.set_option('display.max_columns', 500)\n",
    "pd.set_option('display.width', 1000)"
   ]
  },
  {
   "cell_type": "code",
   "execution_count": 2,
   "metadata": {},
   "outputs": [
    {
     "name": "stderr",
     "output_type": "stream",
     "text": [
      "100%|██████████| 200/200 [00:06<00:00, 32.83it/s]\n"
     ]
    }
   ],
   "source": [
    "test_path = '../input/test.csv'\n",
    "\n",
    "df_test = pd.read_csv(test_path)\n",
    "df_test.drop(['ID_code'], axis=1, inplace=True)\n",
    "df_test = df_test.values\n",
    "\n",
    "unique_samples = []\n",
    "unique_count = np.zeros_like(df_test)\n",
    "for feature in tqdm(range(df_test.shape[1])):\n",
    "    _, index_, count_ = np.unique(df_test[:, feature], return_counts=True, return_index=True)\n",
    "    unique_count[index_[count_ == 1], feature] += 1\n",
    "\n",
    "real_samples_indexes = np.argwhere(np.sum(unique_count, axis=1) > 0)[:, 0]\n",
    "synthetic_samples_indexes = np.argwhere(np.sum(unique_count, axis=1) == 0)[:, 0]\n",
    "\n",
    "del df_test"
   ]
  },
  {
   "cell_type": "code",
   "execution_count": 3,
   "metadata": {},
   "outputs": [
    {
     "name": "stderr",
     "output_type": "stream",
     "text": [
      "/opt/conda/lib/python3.6/site-packages/pandas/core/frame.py:6211: FutureWarning: Sorting because non-concatenation axis is not aligned. A future version\n",
      "of pandas will change to not sort by default.\n",
      "\n",
      "To accept the future behavior, pass 'sort=False'.\n",
      "\n",
      "To retain the current behavior and silence the warning, pass 'sort=True'.\n",
      "\n",
      "  sort=sort)\n"
     ]
    }
   ],
   "source": [
    "train = pd.read_csv('../input/train.csv')\n",
    "test = pd.read_csv('../input/test.csv')\n",
    "\n",
    "test_real = test.iloc[real_samples_indexes]\n",
    "\n",
    "features = train.drop(['ID_code', 'target'], axis = 1).columns.tolist()\n",
    "\n",
    "data = train.append(test_real)"
   ]
  },
  {
   "cell_type": "code",
   "execution_count": 4,
   "metadata": {},
   "outputs": [
    {
     "name": "stdout",
     "output_type": "stream",
     "text": [
      "Fold 0\n"
     ]
    },
    {
     "name": "stderr",
     "output_type": "stream",
     "text": [
      "100%|██████████| 200/200 [00:54<00:00,  2.43it/s]\n"
     ]
    },
    {
     "name": "stdout",
     "output_type": "stream",
     "text": [
      "0:\tlearn: 0.5728201\ttest: 0.5700304\tbest: 0.5700304 (0)\ttotal: 25.2ms\tremaining: 29m 23s\n",
      "5000:\tlearn: 0.9240083\ttest: 0.9066963\tbest: 0.9066982 (4999)\ttotal: 1m 19s\tremaining: 17m 14s\n",
      "10000:\tlearn: 0.9398341\ttest: 0.9137103\tbest: 0.9137103 (10000)\ttotal: 2m 41s\tremaining: 16m 11s\n",
      "15000:\tlearn: 0.9485082\ttest: 0.9158077\tbest: 0.9158078 (14989)\ttotal: 4m 2s\tremaining: 14m 49s\n",
      "20000:\tlearn: 0.9548572\ttest: 0.9167625\tbest: 0.9167631 (19996)\ttotal: 5m 20s\tremaining: 13m 21s\n",
      "25000:\tlearn: 0.9599200\ttest: 0.9172564\tbest: 0.9172646 (24922)\ttotal: 6m 41s\tremaining: 12m 2s\n",
      "30000:\tlearn: 0.9643125\ttest: 0.9175897\tbest: 0.9175897 (30000)\ttotal: 8m 1s\tremaining: 10m 42s\n",
      "35000:\tlearn: 0.9681845\ttest: 0.9179211\tbest: 0.9179446 (34534)\ttotal: 9m 21s\tremaining: 9m 21s\n",
      "40000:\tlearn: 0.9717070\ttest: 0.9180931\tbest: 0.9180935 (39994)\ttotal: 10m 41s\tremaining: 8m 1s\n",
      "45000:\tlearn: 0.9748462\ttest: 0.9182405\tbest: 0.9182447 (44974)\ttotal: 12m 1s\tremaining: 6m 40s\n",
      "50000:\tlearn: 0.9777141\ttest: 0.9183286\tbest: 0.9183374 (49841)\ttotal: 13m 22s\tremaining: 5m 20s\n",
      "55000:\tlearn: 0.9803336\ttest: 0.9184104\tbest: 0.9184167 (54916)\ttotal: 14m 41s\tremaining: 4m\n",
      "60000:\tlearn: 0.9826990\ttest: 0.9184146\tbest: 0.9184287 (59668)\ttotal: 16m\tremaining: 2m 40s\n",
      "65000:\tlearn: 0.9849065\ttest: 0.9184383\tbest: 0.9184633 (64056)\ttotal: 17m 21s\tremaining: 1m 20s\n",
      "69999:\tlearn: 0.9868742\ttest: 0.9184265\tbest: 0.9184633 (64056)\ttotal: 18m 40s\tremaining: 0us\n",
      "bestTest = 0.9184633493\n",
      "bestIteration = 64056\n",
      "Shrink model to first 64057 iterations.\n",
      "  auc =  0.9184633515118055\n",
      "Fold 1\n"
     ]
    },
    {
     "name": "stderr",
     "output_type": "stream",
     "text": [
      "100%|██████████| 200/200 [00:40<00:00,  2.50it/s]\n"
     ]
    },
    {
     "name": "stdout",
     "output_type": "stream",
     "text": [
      "0:\tlearn: 0.5807576\ttest: 0.5756657\tbest: 0.5756657 (0)\ttotal: 19.5ms\tremaining: 22m 47s\n",
      "5000:\tlearn: 0.9235764\ttest: 0.9086463\tbest: 0.9086494 (4998)\ttotal: 1m 20s\tremaining: 17m 22s\n",
      "10000:\tlearn: 0.9397370\ttest: 0.9150954\tbest: 0.9150954 (10000)\ttotal: 2m 40s\tremaining: 16m 5s\n",
      "15000:\tlearn: 0.9483536\ttest: 0.9166453\tbest: 0.9166482 (14981)\ttotal: 4m 4s\tremaining: 14m 56s\n",
      "20000:\tlearn: 0.9546004\ttest: 0.9173993\tbest: 0.9174038 (19976)\ttotal: 5m 25s\tremaining: 13m 33s\n",
      "25000:\tlearn: 0.9597131\ttest: 0.9177096\tbest: 0.9177149 (24980)\ttotal: 6m 45s\tremaining: 12m 9s\n",
      "30000:\tlearn: 0.9640281\ttest: 0.9178697\tbest: 0.9178697 (30000)\ttotal: 8m 5s\tremaining: 10m 47s\n",
      "35000:\tlearn: 0.9678140\ttest: 0.9180399\tbest: 0.9180449 (34965)\ttotal: 9m 26s\tremaining: 9m 26s\n",
      "40000:\tlearn: 0.9712778\ttest: 0.9181550\tbest: 0.9181579 (39934)\ttotal: 10m 47s\tremaining: 8m 5s\n",
      "45000:\tlearn: 0.9744183\ttest: 0.9182366\tbest: 0.9182383 (44837)\ttotal: 12m 5s\tremaining: 6m 43s\n",
      "50000:\tlearn: 0.9772736\ttest: 0.9182865\tbest: 0.9183040 (48469)\ttotal: 13m 27s\tremaining: 5m 22s\n",
      "55000:\tlearn: 0.9798974\ttest: 0.9182626\tbest: 0.9183100 (51184)\ttotal: 14m 46s\tremaining: 4m 1s\n",
      "60000:\tlearn: 0.9822951\ttest: 0.9182512\tbest: 0.9183100 (51184)\ttotal: 16m 7s\tremaining: 2m 41s\n",
      "65000:\tlearn: 0.9844452\ttest: 0.9182151\tbest: 0.9183100 (51184)\ttotal: 17m 27s\tremaining: 1m 20s\n",
      "bestTest = 0.9183099568\n",
      "bestIteration = 51184\n",
      "Shrink model to first 51185 iterations.\n",
      "  auc =  0.9183099952835805\n",
      "Fold 2\n"
     ]
    },
    {
     "name": "stderr",
     "output_type": "stream",
     "text": [
      "100%|██████████| 200/200 [00:38<00:00,  2.64it/s]\n"
     ]
    },
    {
     "name": "stdout",
     "output_type": "stream",
     "text": [
      "0:\tlearn: 0.6017445\ttest: 0.5971054\tbest: 0.5971054 (0)\ttotal: 18.6ms\tremaining: 21m 44s\n",
      "5000:\tlearn: 0.9224496\ttest: 0.9124308\tbest: 0.9124315 (4999)\ttotal: 1m 21s\tremaining: 17m 34s\n",
      "10000:\tlearn: 0.9384384\ttest: 0.9197241\tbest: 0.9197249 (9995)\ttotal: 2m 41s\tremaining: 16m 8s\n",
      "15000:\tlearn: 0.9471549\ttest: 0.9216832\tbest: 0.9216865 (14970)\ttotal: 4m 4s\tremaining: 14m 54s\n",
      "20000:\tlearn: 0.9534275\ttest: 0.9227067\tbest: 0.9227085 (19996)\ttotal: 5m 25s\tremaining: 13m 32s\n",
      "25000:\tlearn: 0.9585813\ttest: 0.9232370\tbest: 0.9232433 (24927)\ttotal: 6m 43s\tremaining: 12m 6s\n",
      "30000:\tlearn: 0.9630053\ttest: 0.9235727\tbest: 0.9235772 (29970)\ttotal: 8m\tremaining: 10m 41s\n",
      "35000:\tlearn: 0.9669683\ttest: 0.9237240\tbest: 0.9237244 (34996)\ttotal: 9m 19s\tremaining: 9m 19s\n",
      "40000:\tlearn: 0.9705217\ttest: 0.9238641\tbest: 0.9238641 (40000)\ttotal: 10m 39s\tremaining: 7m 59s\n",
      "45000:\tlearn: 0.9737642\ttest: 0.9239857\tbest: 0.9239879 (44990)\ttotal: 11m 58s\tremaining: 6m 38s\n",
      "50000:\tlearn: 0.9767520\ttest: 0.9240859\tbest: 0.9240859 (49999)\ttotal: 13m 18s\tremaining: 5m 19s\n",
      "55000:\tlearn: 0.9794477\ttest: 0.9240817\tbest: 0.9240965 (50695)\ttotal: 14m 34s\tremaining: 3m 58s\n",
      "60000:\tlearn: 0.9818670\ttest: 0.9240730\tbest: 0.9241014 (57420)\ttotal: 15m 52s\tremaining: 2m 38s\n",
      "65000:\tlearn: 0.9840837\ttest: 0.9240144\tbest: 0.9241014 (57420)\ttotal: 17m 9s\tremaining: 1m 19s\n",
      "69999:\tlearn: 0.9861242\ttest: 0.9239823\tbest: 0.9241014 (57420)\ttotal: 18m 26s\tremaining: 0us\n",
      "bestTest = 0.9241013825\n",
      "bestIteration = 57420\n",
      "Shrink model to first 57421 iterations.\n",
      "  auc =  0.924101262724731\n",
      "Fold 3\n"
     ]
    },
    {
     "name": "stderr",
     "output_type": "stream",
     "text": [
      "100%|██████████| 200/200 [00:35<00:00,  2.85it/s]\n"
     ]
    },
    {
     "name": "stdout",
     "output_type": "stream",
     "text": [
      "0:\tlearn: 0.5848160\ttest: 0.5736620\tbest: 0.5736620 (0)\ttotal: 18.5ms\tremaining: 21m 37s\n",
      "5000:\tlearn: 0.9236907\ttest: 0.9052941\tbest: 0.9052953 (4999)\ttotal: 1m 20s\tremaining: 17m 30s\n",
      "10000:\tlearn: 0.9394074\ttest: 0.9127904\tbest: 0.9127904 (10000)\ttotal: 2m 39s\tremaining: 15m 58s\n",
      "15000:\tlearn: 0.9479378\ttest: 0.9150604\tbest: 0.9150628 (14961)\ttotal: 3m 58s\tremaining: 14m 35s\n",
      "20000:\tlearn: 0.9541585\ttest: 0.9161696\tbest: 0.9161696 (19999)\ttotal: 5m 16s\tremaining: 13m 12s\n",
      "25000:\tlearn: 0.9592273\ttest: 0.9169340\tbest: 0.9169341 (24999)\ttotal: 6m 34s\tremaining: 11m 50s\n",
      "30000:\tlearn: 0.9635550\ttest: 0.9174552\tbest: 0.9174589 (29937)\ttotal: 7m 52s\tremaining: 10m 29s\n",
      "35000:\tlearn: 0.9675671\ttest: 0.9177881\tbest: 0.9177925 (34980)\ttotal: 9m 11s\tremaining: 9m 11s\n",
      "40000:\tlearn: 0.9710876\ttest: 0.9180076\tbest: 0.9180156 (39812)\ttotal: 10m 30s\tremaining: 7m 52s\n",
      "45000:\tlearn: 0.9743321\ttest: 0.9181750\tbest: 0.9181761 (44993)\ttotal: 11m 48s\tremaining: 6m 33s\n",
      "50000:\tlearn: 0.9772437\ttest: 0.9182649\tbest: 0.9182687 (49380)\ttotal: 13m 3s\tremaining: 5m 13s\n",
      "55000:\tlearn: 0.9799345\ttest: 0.9183492\tbest: 0.9183539 (54413)\ttotal: 14m 19s\tremaining: 3m 54s\n",
      "60000:\tlearn: 0.9823565\ttest: 0.9184045\tbest: 0.9184228 (58512)\ttotal: 15m 37s\tremaining: 2m 36s\n",
      "65000:\tlearn: 0.9845240\ttest: 0.9183984\tbest: 0.9184228 (58512)\ttotal: 16m 53s\tremaining: 1m 17s\n",
      "69999:\tlearn: 0.9865335\ttest: 0.9184482\tbest: 0.9184492 (69984)\ttotal: 18m 9s\tremaining: 0us\n",
      "bestTest = 0.9184491634\n",
      "bestIteration = 69984\n",
      "Shrink model to first 69985 iterations.\n",
      "  auc =  0.9184490402107499\n",
      "Fold 4\n"
     ]
    },
    {
     "name": "stderr",
     "output_type": "stream",
     "text": [
      "100%|██████████| 200/200 [00:34<00:00,  2.87it/s]\n"
     ]
    },
    {
     "name": "stdout",
     "output_type": "stream",
     "text": [
      "0:\tlearn: 0.5787821\ttest: 0.5719253\tbest: 0.5719253 (0)\ttotal: 16.8ms\tremaining: 19m 32s\n",
      "5000:\tlearn: 0.9243198\ttest: 0.9042088\tbest: 0.9042088 (5000)\ttotal: 1m 17s\tremaining: 16m 45s\n",
      "10000:\tlearn: 0.9402682\ttest: 0.9122207\tbest: 0.9122207 (10000)\ttotal: 2m 35s\tremaining: 15m 30s\n",
      "15000:\tlearn: 0.9489580\ttest: 0.9144725\tbest: 0.9144725 (15000)\ttotal: 3m 52s\tremaining: 14m 13s\n",
      "20000:\tlearn: 0.9552417\ttest: 0.9155385\tbest: 0.9155385 (20000)\ttotal: 5m 11s\tremaining: 12m 59s\n",
      "25000:\tlearn: 0.9602182\ttest: 0.9161453\tbest: 0.9161453 (25000)\ttotal: 6m 30s\tremaining: 11m 43s\n",
      "30000:\tlearn: 0.9645258\ttest: 0.9165321\tbest: 0.9165326 (29981)\ttotal: 7m 48s\tremaining: 10m 24s\n",
      "35000:\tlearn: 0.9684312\ttest: 0.9168442\tbest: 0.9168453 (34987)\ttotal: 9m 4s\tremaining: 9m 4s\n",
      "40000:\tlearn: 0.9719623\ttest: 0.9170555\tbest: 0.9170557 (39998)\ttotal: 10m 20s\tremaining: 7m 45s\n",
      "45000:\tlearn: 0.9751115\ttest: 0.9171372\tbest: 0.9171395 (44985)\ttotal: 11m 36s\tremaining: 6m 27s\n",
      "50000:\tlearn: 0.9779506\ttest: 0.9172855\tbest: 0.9172900 (49854)\ttotal: 12m 54s\tremaining: 5m 9s\n",
      "55000:\tlearn: 0.9806026\ttest: 0.9174014\tbest: 0.9174027 (54096)\ttotal: 14m 11s\tremaining: 3m 52s\n",
      "60000:\tlearn: 0.9829862\ttest: 0.9174736\tbest: 0.9174833 (59651)\ttotal: 15m 26s\tremaining: 2m 34s\n",
      "65000:\tlearn: 0.9851029\ttest: 0.9175068\tbest: 0.9175111 (64338)\ttotal: 16m 42s\tremaining: 1m 17s\n",
      "69999:\tlearn: 0.9870356\ttest: 0.9175753\tbest: 0.9175866 (69875)\ttotal: 17m 59s\tremaining: 0us\n",
      "bestTest = 0.917586565\n",
      "bestIteration = 69875\n",
      "Shrink model to first 69876 iterations.\n",
      "  auc =  0.9175866067529983\n",
      "CV score: 0.91932 \n"
     ]
    }
   ],
   "source": [
    "num_round = 1000000\n",
    "folds = StratifiedKFold(n_splits=5, shuffle=True, random_state=42)\n",
    "oof = np.zeros(len(train))\n",
    "predictions = np.zeros(len(test))\n",
    "\n",
    "model = CatBoostClassifier(loss_function=\"Logloss\",\n",
    "                           eval_metric=\"AUC\",\n",
    "                           task_type=\"GPU\",\n",
    "                           learning_rate=0.01,\n",
    "                           iterations=70000,\n",
    "                           l2_leaf_reg=50,\n",
    "                           random_seed=42,\n",
    "                           od_type=\"Iter\",\n",
    "                           depth=5,\n",
    "                           early_stopping_rounds=15000,\n",
    "                           border_count=64\n",
    "                          )\n",
    "\n",
    "for fold_, (trn_idx, val_idx) in enumerate(folds.split(train.values, train.target.values)):\n",
    "    print(\"Fold {}\".format(fold_))\n",
    "    X_train, y_train = train.iloc[trn_idx][features], train.iloc[trn_idx]['target']\n",
    "    X_valid, y_valid = train.iloc[val_idx][features], train.iloc[val_idx]['target']\n",
    "    \n",
    "    for col in tqdm(features):\n",
    "        gr = data[col].value_counts()\n",
    "        gr_bin = data.groupby(col)[col].count()>1\n",
    "        \n",
    "        X_train[col + '_un'] = X_train[col].map(gr).astype('category').cat.codes\n",
    "        X_valid[col + '_un'] = X_valid[col].map(gr).astype('category').cat.codes\n",
    "        test[col + '_un'] = test[col].map(gr).astype('category').cat.codes\n",
    "        \n",
    "        X_train[col + '_un_bin'] = X_train[col].map(gr_bin).astype('category').cat.codes\n",
    "        X_valid[col + '_un_bin'] = X_valid[col].map(gr_bin).astype('category').cat.codes\n",
    "        test[col + '_un_bin'] = test[col].map(gr_bin).astype('category').cat.codes\n",
    "        \n",
    "        X_train[col + '_raw_mul'] = X_train[col] * X_train[col + '_un_bin']\n",
    "        X_valid[col + '_raw_mul'] = X_valid[col] * X_valid[col + '_un_bin']\n",
    "        test[col + '_raw_mul'] = test[col] * test[col + '_un_bin']\n",
    "        \n",
    "        X_train[col + '_raw_mul_2'] = X_train[col] * X_train[col + '_un']\n",
    "        X_valid[col + '_raw_mul_2'] = X_valid[col] * X_valid[col + '_un']\n",
    "        test[col + '_raw_mul_2'] = test[col] * test[col + '_un']\n",
    "        \n",
    "        X_train[col + '_raw_mul_3'] = X_train[col + '_un_bin'] * X_train[col + '_un']\n",
    "        X_valid[col + '_raw_mul_3'] = X_valid[col + '_un_bin'] * X_valid[col + '_un']\n",
    "        test[col + '_raw_mul_3'] = test[col + '_un_bin'] * test[col + '_un']\n",
    "\n",
    "\n",
    "    _train = Pool(X_train, label=y_train)\n",
    "    _valid = Pool(X_valid, label=y_valid)\n",
    "    clf = model.fit(_train,\n",
    "                    eval_set=_valid,\n",
    "                    use_best_model=True,\n",
    "                    verbose=5000)\n",
    "    pred = clf.predict_proba(X_valid)[:,1]\n",
    "    oof[val_idx] = pred\n",
    "    print( \"  auc = \", roc_auc_score(y_valid, pred) )\n",
    "    predictions += clf.predict_proba(test.drop('ID_code', axis=1))[:,1] / folds.n_splits\n",
    "print(\"CV score: {:<8.5f}\".format(roc_auc_score(train.target, oof)))"
   ]
  },
  {
   "cell_type": "code",
   "execution_count": 5,
   "metadata": {},
   "outputs": [],
   "source": [
    "sub = pd.DataFrame({\"ID_code\": test.ID_code.values})\n",
    "sub[\"target\"] = predictions\n",
    "sub.to_csv(\"Range_bins_sub_3.csv\", index=False)"
   ]
  },
  {
   "cell_type": "code",
   "execution_count": 6,
   "metadata": {},
   "outputs": [
    {
     "data": {
      "text/html": [
       "<div>\n",
       "<style scoped>\n",
       "    .dataframe tbody tr th:only-of-type {\n",
       "        vertical-align: middle;\n",
       "    }\n",
       "\n",
       "    .dataframe tbody tr th {\n",
       "        vertical-align: top;\n",
       "    }\n",
       "\n",
       "    .dataframe thead th {\n",
       "        text-align: right;\n",
       "    }\n",
       "</style>\n",
       "<table border=\"1\" class=\"dataframe\">\n",
       "  <thead>\n",
       "    <tr style=\"text-align: right;\">\n",
       "      <th></th>\n",
       "      <th>ID_code</th>\n",
       "      <th>target</th>\n",
       "    </tr>\n",
       "  </thead>\n",
       "  <tbody>\n",
       "    <tr>\n",
       "      <th>0</th>\n",
       "      <td>test_0</td>\n",
       "      <td>0.048964</td>\n",
       "    </tr>\n",
       "    <tr>\n",
       "      <th>1</th>\n",
       "      <td>test_1</td>\n",
       "      <td>0.179397</td>\n",
       "    </tr>\n",
       "    <tr>\n",
       "      <th>2</th>\n",
       "      <td>test_2</td>\n",
       "      <td>0.261497</td>\n",
       "    </tr>\n",
       "    <tr>\n",
       "      <th>3</th>\n",
       "      <td>test_3</td>\n",
       "      <td>0.158345</td>\n",
       "    </tr>\n",
       "    <tr>\n",
       "      <th>4</th>\n",
       "      <td>test_4</td>\n",
       "      <td>0.053507</td>\n",
       "    </tr>\n",
       "  </tbody>\n",
       "</table>\n",
       "</div>"
      ],
      "text/plain": [
       "  ID_code    target\n",
       "0  test_0  0.048964\n",
       "1  test_1  0.179397\n",
       "2  test_2  0.261497\n",
       "3  test_3  0.158345\n",
       "4  test_4  0.053507"
      ]
     },
     "execution_count": 6,
     "metadata": {},
     "output_type": "execute_result"
    }
   ],
   "source": [
    "sub.head()"
   ]
  }
 ],
 "metadata": {
  "kernelspec": {
   "display_name": "Python 3",
   "language": "python",
   "name": "python3"
  },
  "language_info": {
   "codemirror_mode": {
    "name": "ipython",
    "version": 3
   },
   "file_extension": ".py",
   "mimetype": "text/x-python",
   "name": "python",
   "nbconvert_exporter": "python",
   "pygments_lexer": "ipython3",
   "version": "3.6.6"
  }
 },
 "nbformat": 4,
 "nbformat_minor": 1
}
