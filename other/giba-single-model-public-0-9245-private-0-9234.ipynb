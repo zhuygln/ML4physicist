{
 "cells": [
  {
   "cell_type": "code",
   "execution_count": 1,
   "metadata": {
    "_cell_guid": "b1076dfc-b9ad-4769-8c92-a6c4dae69d19",
    "_uuid": "8f2839f25d086af736a60e9eeb907d3b93b6e0e5"
   },
   "outputs": [],
   "source": [
    "import numpy as np\n",
    "import pandas as pd\n",
    "import gc\n",
    "import lightgbm as lgb\n",
    "from sklearn.model_selection import StratifiedKFold\n",
    "from scipy.stats import rankdata"
   ]
  },
  {
   "cell_type": "code",
   "execution_count": 2,
   "metadata": {},
   "outputs": [],
   "source": [
    "train_df = pd.read_csv(\"../input/train.csv\")\n",
    "test_df = pd.read_csv(\"../input/test.csv\")\n",
    "\n",
    "features = [x for x in train_df.columns if x.startswith(\"var\")]\n"
   ]
  },
  {
   "cell_type": "code",
   "execution_count": 3,
   "metadata": {},
   "outputs": [],
   "source": [
    "#Reverse features\n",
    "for var in features:\n",
    "    if np.corrcoef( train_df['target'], train_df[var] )[1][0] < 0:\n",
    "        train_df[var] = train_df[var] * -1\n",
    "        test_df[var]  = test_df[var]  * -1"
   ]
  },
  {
   "cell_type": "code",
   "execution_count": 4,
   "metadata": {},
   "outputs": [],
   "source": [
    "#count all values\n",
    "var_stats = {}\n",
    "hist_df = pd.DataFrame()\n",
    "for var in features:\n",
    "    var_stats = train_df[var].append(test_df[var]).value_counts()\n",
    "    hist_df[var] = pd.Series(test_df[var]).map(var_stats)\n",
    "    hist_df[var] = hist_df[var] > 1\n",
    "#remove fake test rows\n",
    "ind = hist_df.sum(axis=1) != 200"
   ]
  },
  {
   "cell_type": "code",
   "execution_count": 5,
   "metadata": {},
   "outputs": [],
   "source": [
    "#recount values without fake rows\n",
    "var_stats = {}\n",
    "for var in features:\n",
    "    var_stats[var] = train_df[var].append(test_df[ind][var]).value_counts()"
   ]
  },
  {
   "cell_type": "code",
   "execution_count": 6,
   "metadata": {},
   "outputs": [],
   "source": [
    "def logit(p):\n",
    "    return np.log(p) - np.log(1 - p)\n",
    "\n",
    "def var_to_feat(vr, var_stats, feat_id ):\n",
    "    new_df = pd.DataFrame()\n",
    "    new_df[\"var\"] = vr.values\n",
    "    new_df[\"hist\"] = pd.Series(vr).map(var_stats)\n",
    "    new_df[\"feature_id\"] = feat_id\n",
    "    new_df[\"var_rank\"] = new_df[\"var\"].rank()/200000.\n",
    "    return new_df.values"
   ]
  },
  {
   "cell_type": "code",
   "execution_count": 7,
   "metadata": {
    "_cell_guid": "79c7e3d0-c299-4dcb-8224-4455121ee9b0",
    "_uuid": "d629ff2d2480ee46fbb7e2d37f6b5fab8052498a"
   },
   "outputs": [
    {
     "name": "stdout",
     "output_type": "stream",
     "text": [
      "(40000000, 4) 40000000\n"
     ]
    }
   ],
   "source": [
    "TARGET = np.array( list(train_df['target'].values) * 200 )\n",
    "\n",
    "TRAIN = []\n",
    "var_mean = {}\n",
    "var_var  = {}\n",
    "for var in features:\n",
    "    tmp = var_to_feat(train_df[var], var_stats[var], int(var[4:]) )\n",
    "    var_mean[var] = np.mean(tmp[:,0]) \n",
    "    var_var[var]  = np.var(tmp[:,0])\n",
    "    tmp[:,0] = (tmp[:,0]-var_mean[var])/var_var[var]\n",
    "    TRAIN.append( tmp )\n",
    "TRAIN = np.vstack( TRAIN )\n",
    "\n",
    "del train_df\n",
    "_=gc.collect()\n",
    "\n",
    "print( TRAIN.shape, len( TARGET ) )"
   ]
  },
  {
   "cell_type": "code",
   "execution_count": 8,
   "metadata": {},
   "outputs": [
    {
     "name": "stdout",
     "output_type": "stream",
     "text": [
      "Fold: 0\n"
     ]
    },
    {
     "name": "stderr",
     "output_type": "stream",
     "text": [
      "/opt/conda/lib/python3.6/site-packages/lightgbm/basic.py:1209: UserWarning: categorical_feature in Dataset is overridden.\n",
      "New categorical_feature is [2]\n",
      "  'New categorical_feature is {}'.format(sorted(list(categorical_feature))))\n"
     ]
    },
    {
     "name": "stdout",
     "output_type": "stream",
     "text": [
      "Training until validation scores don't improve for 25 rounds.\n",
      "[10]\tvalid_0's auc: 0.528068\tvalid_0's binary_logloss: 0.325585\n",
      "[20]\tvalid_0's auc: 0.528253\tvalid_0's binary_logloss: 0.325354\n",
      "[30]\tvalid_0's auc: 0.5283\tvalid_0's binary_logloss: 0.325251\n",
      "[40]\tvalid_0's auc: 0.528371\tvalid_0's binary_logloss: 0.325201\n",
      "[50]\tvalid_0's auc: 0.528432\tvalid_0's binary_logloss: 0.325176\n",
      "[60]\tvalid_0's auc: 0.528445\tvalid_0's binary_logloss: 0.325162\n",
      "[70]\tvalid_0's auc: 0.52843\tvalid_0's binary_logloss: 0.325154\n",
      "[80]\tvalid_0's auc: 0.528391\tvalid_0's binary_logloss: 0.32515\n",
      "[90]\tvalid_0's auc: 0.528347\tvalid_0's binary_logloss: 0.325148\n",
      "Early stopping, best iteration is:\n",
      "[65]\tvalid_0's auc: 0.528454\tvalid_0's binary_logloss: 0.325157\n",
      "Fold: 1\n"
     ]
    },
    {
     "name": "stderr",
     "output_type": "stream",
     "text": [
      "/opt/conda/lib/python3.6/site-packages/lightgbm/basic.py:1209: UserWarning: categorical_feature in Dataset is overridden.\n",
      "New categorical_feature is [2]\n",
      "  'New categorical_feature is {}'.format(sorted(list(categorical_feature))))\n"
     ]
    },
    {
     "name": "stdout",
     "output_type": "stream",
     "text": [
      "Training until validation scores don't improve for 25 rounds.\n",
      "[10]\tvalid_0's auc: 0.526741\tvalid_0's binary_logloss: 0.325592\n",
      "[20]\tvalid_0's auc: 0.527081\tvalid_0's binary_logloss: 0.325365\n",
      "[30]\tvalid_0's auc: 0.527221\tvalid_0's binary_logloss: 0.325263\n",
      "[40]\tvalid_0's auc: 0.527306\tvalid_0's binary_logloss: 0.325215\n",
      "[50]\tvalid_0's auc: 0.527396\tvalid_0's binary_logloss: 0.32519\n",
      "[60]\tvalid_0's auc: 0.527444\tvalid_0's binary_logloss: 0.325175\n",
      "[70]\tvalid_0's auc: 0.527445\tvalid_0's binary_logloss: 0.325168\n",
      "[80]\tvalid_0's auc: 0.527465\tvalid_0's binary_logloss: 0.325163\n",
      "[90]\tvalid_0's auc: 0.52746\tvalid_0's binary_logloss: 0.32516\n",
      "[100]\tvalid_0's auc: 0.52746\tvalid_0's binary_logloss: 0.325158\n",
      "[110]\tvalid_0's auc: 0.527498\tvalid_0's binary_logloss: 0.325156\n",
      "[120]\tvalid_0's auc: 0.527492\tvalid_0's binary_logloss: 0.325155\n",
      "[130]\tvalid_0's auc: 0.527458\tvalid_0's binary_logloss: 0.325155\n",
      "Early stopping, best iteration is:\n",
      "[110]\tvalid_0's auc: 0.527498\tvalid_0's binary_logloss: 0.325156\n",
      "Fold: 2\n"
     ]
    },
    {
     "name": "stderr",
     "output_type": "stream",
     "text": [
      "/opt/conda/lib/python3.6/site-packages/lightgbm/basic.py:1209: UserWarning: categorical_feature in Dataset is overridden.\n",
      "New categorical_feature is [2]\n",
      "  'New categorical_feature is {}'.format(sorted(list(categorical_feature))))\n"
     ]
    },
    {
     "name": "stdout",
     "output_type": "stream",
     "text": [
      "Training until validation scores don't improve for 25 rounds.\n",
      "[10]\tvalid_0's auc: 0.528186\tvalid_0's binary_logloss: 0.325583\n",
      "[20]\tvalid_0's auc: 0.528469\tvalid_0's binary_logloss: 0.325348\n",
      "[30]\tvalid_0's auc: 0.528523\tvalid_0's binary_logloss: 0.325244\n",
      "[40]\tvalid_0's auc: 0.528568\tvalid_0's binary_logloss: 0.325193\n",
      "[50]\tvalid_0's auc: 0.528572\tvalid_0's binary_logloss: 0.325168\n",
      "[60]\tvalid_0's auc: 0.528543\tvalid_0's binary_logloss: 0.325153\n",
      "[70]\tvalid_0's auc: 0.528526\tvalid_0's binary_logloss: 0.325145\n",
      "Early stopping, best iteration is:\n",
      "[49]\tvalid_0's auc: 0.528584\tvalid_0's binary_logloss: 0.32517\n",
      "Fold: 3\n"
     ]
    },
    {
     "name": "stderr",
     "output_type": "stream",
     "text": [
      "/opt/conda/lib/python3.6/site-packages/lightgbm/basic.py:1209: UserWarning: categorical_feature in Dataset is overridden.\n",
      "New categorical_feature is [2]\n",
      "  'New categorical_feature is {}'.format(sorted(list(categorical_feature))))\n"
     ]
    },
    {
     "name": "stdout",
     "output_type": "stream",
     "text": [
      "Training until validation scores don't improve for 25 rounds.\n",
      "[10]\tvalid_0's auc: 0.527267\tvalid_0's binary_logloss: 0.325586\n",
      "[20]\tvalid_0's auc: 0.527657\tvalid_0's binary_logloss: 0.325357\n",
      "[30]\tvalid_0's auc: 0.527799\tvalid_0's binary_logloss: 0.325255\n",
      "[40]\tvalid_0's auc: 0.52782\tvalid_0's binary_logloss: 0.325207\n",
      "[50]\tvalid_0's auc: 0.527854\tvalid_0's binary_logloss: 0.325183\n",
      "[60]\tvalid_0's auc: 0.527898\tvalid_0's binary_logloss: 0.325169\n",
      "[70]\tvalid_0's auc: 0.5279\tvalid_0's binary_logloss: 0.325162\n",
      "[80]\tvalid_0's auc: 0.527903\tvalid_0's binary_logloss: 0.325158\n",
      "[90]\tvalid_0's auc: 0.527917\tvalid_0's binary_logloss: 0.325155\n",
      "[100]\tvalid_0's auc: 0.52792\tvalid_0's binary_logloss: 0.325153\n",
      "[110]\tvalid_0's auc: 0.527915\tvalid_0's binary_logloss: 0.325152\n",
      "Early stopping, best iteration is:\n",
      "[93]\tvalid_0's auc: 0.527927\tvalid_0's binary_logloss: 0.325154\n",
      "Fold: 4\n"
     ]
    },
    {
     "name": "stderr",
     "output_type": "stream",
     "text": [
      "/opt/conda/lib/python3.6/site-packages/lightgbm/basic.py:1209: UserWarning: categorical_feature in Dataset is overridden.\n",
      "New categorical_feature is [2]\n",
      "  'New categorical_feature is {}'.format(sorted(list(categorical_feature))))\n"
     ]
    },
    {
     "name": "stdout",
     "output_type": "stream",
     "text": [
      "Training until validation scores don't improve for 25 rounds.\n",
      "[10]\tvalid_0's auc: 0.528537\tvalid_0's binary_logloss: 0.325578\n",
      "[20]\tvalid_0's auc: 0.528778\tvalid_0's binary_logloss: 0.325341\n",
      "[30]\tvalid_0's auc: 0.528977\tvalid_0's binary_logloss: 0.325233\n",
      "[40]\tvalid_0's auc: 0.529028\tvalid_0's binary_logloss: 0.325181\n",
      "[50]\tvalid_0's auc: 0.529068\tvalid_0's binary_logloss: 0.325154\n",
      "[60]\tvalid_0's auc: 0.529078\tvalid_0's binary_logloss: 0.32514\n",
      "[70]\tvalid_0's auc: 0.529078\tvalid_0's binary_logloss: 0.32513\n",
      "[80]\tvalid_0's auc: 0.52911\tvalid_0's binary_logloss: 0.325125\n",
      "[90]\tvalid_0's auc: 0.529115\tvalid_0's binary_logloss: 0.325122\n",
      "[100]\tvalid_0's auc: 0.529111\tvalid_0's binary_logloss: 0.325121\n",
      "[110]\tvalid_0's auc: 0.529135\tvalid_0's binary_logloss: 0.325119\n",
      "[120]\tvalid_0's auc: 0.529138\tvalid_0's binary_logloss: 0.325118\n",
      "[130]\tvalid_0's auc: 0.529135\tvalid_0's binary_logloss: 0.325117\n",
      "[140]\tvalid_0's auc: 0.529135\tvalid_0's binary_logloss: 0.325117\n",
      "[150]\tvalid_0's auc: 0.529121\tvalid_0's binary_logloss: 0.325117\n",
      "[160]\tvalid_0's auc: 0.52914\tvalid_0's binary_logloss: 0.325116\n",
      "[170]\tvalid_0's auc: 0.529151\tvalid_0's binary_logloss: 0.325116\n",
      "[180]\tvalid_0's auc: 0.529148\tvalid_0's binary_logloss: 0.325115\n",
      "[190]\tvalid_0's auc: 0.529152\tvalid_0's binary_logloss: 0.325115\n",
      "[200]\tvalid_0's auc: 0.529153\tvalid_0's binary_logloss: 0.325115\n",
      "Did not meet early stopping. Best iteration is:\n",
      "[196]\tvalid_0's auc: 0.529164\tvalid_0's binary_logloss: 0.325115\n",
      "Fold: 5\n"
     ]
    },
    {
     "name": "stderr",
     "output_type": "stream",
     "text": [
      "/opt/conda/lib/python3.6/site-packages/lightgbm/basic.py:1209: UserWarning: categorical_feature in Dataset is overridden.\n",
      "New categorical_feature is [2]\n",
      "  'New categorical_feature is {}'.format(sorted(list(categorical_feature))))\n"
     ]
    },
    {
     "name": "stdout",
     "output_type": "stream",
     "text": [
      "Training until validation scores don't improve for 25 rounds.\n",
      "[10]\tvalid_0's auc: 0.528025\tvalid_0's binary_logloss: 0.325597\n",
      "[20]\tvalid_0's auc: 0.528384\tvalid_0's binary_logloss: 0.325369\n",
      "[30]\tvalid_0's auc: 0.528583\tvalid_0's binary_logloss: 0.325267\n",
      "[40]\tvalid_0's auc: 0.528685\tvalid_0's binary_logloss: 0.325218\n",
      "[50]\tvalid_0's auc: 0.52874\tvalid_0's binary_logloss: 0.325194\n",
      "[60]\tvalid_0's auc: 0.528744\tvalid_0's binary_logloss: 0.325181\n",
      "[70]\tvalid_0's auc: 0.528765\tvalid_0's binary_logloss: 0.325174\n",
      "[80]\tvalid_0's auc: 0.528755\tvalid_0's binary_logloss: 0.325169\n",
      "[90]\tvalid_0's auc: 0.528732\tvalid_0's binary_logloss: 0.325167\n",
      "Early stopping, best iteration is:\n",
      "[68]\tvalid_0's auc: 0.528768\tvalid_0's binary_logloss: 0.325174\n",
      "Fold: 6\n"
     ]
    },
    {
     "name": "stderr",
     "output_type": "stream",
     "text": [
      "/opt/conda/lib/python3.6/site-packages/lightgbm/basic.py:1209: UserWarning: categorical_feature in Dataset is overridden.\n",
      "New categorical_feature is [2]\n",
      "  'New categorical_feature is {}'.format(sorted(list(categorical_feature))))\n"
     ]
    },
    {
     "name": "stdout",
     "output_type": "stream",
     "text": [
      "Training until validation scores don't improve for 25 rounds.\n",
      "[10]\tvalid_0's auc: 0.528632\tvalid_0's binary_logloss: 0.325578\n",
      "[20]\tvalid_0's auc: 0.528933\tvalid_0's binary_logloss: 0.325339\n",
      "[30]\tvalid_0's auc: 0.528982\tvalid_0's binary_logloss: 0.325232\n",
      "[40]\tvalid_0's auc: 0.529017\tvalid_0's binary_logloss: 0.325181\n",
      "[50]\tvalid_0's auc: 0.52904\tvalid_0's binary_logloss: 0.325154\n",
      "[60]\tvalid_0's auc: 0.529058\tvalid_0's binary_logloss: 0.325138\n",
      "[70]\tvalid_0's auc: 0.529054\tvalid_0's binary_logloss: 0.32513\n",
      "[80]\tvalid_0's auc: 0.52905\tvalid_0's binary_logloss: 0.325124\n",
      "[90]\tvalid_0's auc: 0.529059\tvalid_0's binary_logloss: 0.32512\n",
      "[100]\tvalid_0's auc: 0.529046\tvalid_0's binary_logloss: 0.325119\n",
      "[110]\tvalid_0's auc: 0.529038\tvalid_0's binary_logloss: 0.325117\n",
      "Early stopping, best iteration is:\n",
      "[86]\tvalid_0's auc: 0.529077\tvalid_0's binary_logloss: 0.325122\n",
      "Fold: 7\n"
     ]
    },
    {
     "name": "stderr",
     "output_type": "stream",
     "text": [
      "/opt/conda/lib/python3.6/site-packages/lightgbm/basic.py:1209: UserWarning: categorical_feature in Dataset is overridden.\n",
      "New categorical_feature is [2]\n",
      "  'New categorical_feature is {}'.format(sorted(list(categorical_feature))))\n"
     ]
    },
    {
     "name": "stdout",
     "output_type": "stream",
     "text": [
      "Training until validation scores don't improve for 25 rounds.\n",
      "[10]\tvalid_0's auc: 0.528481\tvalid_0's binary_logloss: 0.325589\n",
      "[20]\tvalid_0's auc: 0.528741\tvalid_0's binary_logloss: 0.325359\n",
      "[30]\tvalid_0's auc: 0.528838\tvalid_0's binary_logloss: 0.325256\n",
      "[40]\tvalid_0's auc: 0.528863\tvalid_0's binary_logloss: 0.325208\n",
      "[50]\tvalid_0's auc: 0.528913\tvalid_0's binary_logloss: 0.325183\n",
      "[60]\tvalid_0's auc: 0.528915\tvalid_0's binary_logloss: 0.325169\n",
      "[70]\tvalid_0's auc: 0.528884\tvalid_0's binary_logloss: 0.325161\n",
      "Early stopping, best iteration is:\n",
      "[54]\tvalid_0's auc: 0.528921\tvalid_0's binary_logloss: 0.325177\n",
      "Fold: 8\n"
     ]
    },
    {
     "name": "stderr",
     "output_type": "stream",
     "text": [
      "/opt/conda/lib/python3.6/site-packages/lightgbm/basic.py:1209: UserWarning: categorical_feature in Dataset is overridden.\n",
      "New categorical_feature is [2]\n",
      "  'New categorical_feature is {}'.format(sorted(list(categorical_feature))))\n"
     ]
    },
    {
     "name": "stdout",
     "output_type": "stream",
     "text": [
      "Training until validation scores don't improve for 25 rounds.\n",
      "[10]\tvalid_0's auc: 0.527734\tvalid_0's binary_logloss: 0.325589\n",
      "[20]\tvalid_0's auc: 0.528047\tvalid_0's binary_logloss: 0.325358\n",
      "[30]\tvalid_0's auc: 0.528117\tvalid_0's binary_logloss: 0.325254\n",
      "[40]\tvalid_0's auc: 0.528177\tvalid_0's binary_logloss: 0.325205\n",
      "[50]\tvalid_0's auc: 0.528263\tvalid_0's binary_logloss: 0.32518\n",
      "[60]\tvalid_0's auc: 0.528307\tvalid_0's binary_logloss: 0.325167\n",
      "[70]\tvalid_0's auc: 0.528368\tvalid_0's binary_logloss: 0.325159\n",
      "[80]\tvalid_0's auc: 0.528382\tvalid_0's binary_logloss: 0.325154\n",
      "[90]\tvalid_0's auc: 0.528381\tvalid_0's binary_logloss: 0.325151\n",
      "[100]\tvalid_0's auc: 0.528374\tvalid_0's binary_logloss: 0.32515\n",
      "[110]\tvalid_0's auc: 0.528369\tvalid_0's binary_logloss: 0.325149\n",
      "[120]\tvalid_0's auc: 0.528372\tvalid_0's binary_logloss: 0.325148\n",
      "Early stopping, best iteration is:\n",
      "[95]\tvalid_0's auc: 0.528393\tvalid_0's binary_logloss: 0.32515\n",
      "Fold: 9\n"
     ]
    },
    {
     "name": "stderr",
     "output_type": "stream",
     "text": [
      "/opt/conda/lib/python3.6/site-packages/lightgbm/basic.py:1209: UserWarning: categorical_feature in Dataset is overridden.\n",
      "New categorical_feature is [2]\n",
      "  'New categorical_feature is {}'.format(sorted(list(categorical_feature))))\n"
     ]
    },
    {
     "name": "stdout",
     "output_type": "stream",
     "text": [
      "Training until validation scores don't improve for 25 rounds.\n",
      "[10]\tvalid_0's auc: 0.528183\tvalid_0's binary_logloss: 0.325586\n",
      "[20]\tvalid_0's auc: 0.528359\tvalid_0's binary_logloss: 0.325356\n",
      "[30]\tvalid_0's auc: 0.528532\tvalid_0's binary_logloss: 0.325251\n",
      "[40]\tvalid_0's auc: 0.528611\tvalid_0's binary_logloss: 0.325202\n",
      "[50]\tvalid_0's auc: 0.52865\tvalid_0's binary_logloss: 0.325176\n",
      "[60]\tvalid_0's auc: 0.528679\tvalid_0's binary_logloss: 0.325162\n",
      "[70]\tvalid_0's auc: 0.528729\tvalid_0's binary_logloss: 0.325154\n",
      "[80]\tvalid_0's auc: 0.528725\tvalid_0's binary_logloss: 0.32515\n",
      "[90]\tvalid_0's auc: 0.528738\tvalid_0's binary_logloss: 0.325147\n",
      "[100]\tvalid_0's auc: 0.528741\tvalid_0's binary_logloss: 0.325145\n",
      "[110]\tvalid_0's auc: 0.528721\tvalid_0's binary_logloss: 0.325145\n",
      "[120]\tvalid_0's auc: 0.528751\tvalid_0's binary_logloss: 0.325144\n",
      "[130]\tvalid_0's auc: 0.52875\tvalid_0's binary_logloss: 0.325143\n",
      "[140]\tvalid_0's auc: 0.528749\tvalid_0's binary_logloss: 0.325143\n",
      "[150]\tvalid_0's auc: 0.528759\tvalid_0's binary_logloss: 0.325143\n",
      "[160]\tvalid_0's auc: 0.528759\tvalid_0's binary_logloss: 0.325143\n",
      "[170]\tvalid_0's auc: 0.528761\tvalid_0's binary_logloss: 0.325143\n",
      "[180]\tvalid_0's auc: 0.528774\tvalid_0's binary_logloss: 0.325142\n",
      "[190]\tvalid_0's auc: 0.528775\tvalid_0's binary_logloss: 0.325142\n",
      "[200]\tvalid_0's auc: 0.528766\tvalid_0's binary_logloss: 0.325142\n",
      "Did not meet early stopping. Best iteration is:\n",
      "[187]\tvalid_0's auc: 0.528781\tvalid_0's binary_logloss: 0.325142\n"
     ]
    }
   ],
   "source": [
    "model = lgb.LGBMClassifier(**{\n",
    "     'learning_rate': 0.04,\n",
    "     'num_leaves': 31,\n",
    "     'max_bin': 1023,\n",
    "     'min_child_samples': 1000,\n",
    "     'reg_alpha': 0.1,\n",
    "     'reg_lambda': 0.2,\n",
    "     'feature_fraction': 1.0,\n",
    "     'bagging_freq': 1,\n",
    "     'bagging_fraction': 0.85,\n",
    "     'objective': 'binary',\n",
    "     'n_jobs': -1,\n",
    "     'n_estimators':200,})\n",
    "\n",
    "MODELS = []\n",
    "skf = StratifiedKFold(n_splits=10, shuffle=True, random_state=11111)\n",
    "for fold_, (train_indexes, valid_indexes) in enumerate(skf.split(TRAIN, TARGET)):\n",
    "    print('Fold:', fold_ )\n",
    "    model = model.fit( TRAIN[train_indexes], TARGET[train_indexes],\n",
    "                      eval_set = (TRAIN[valid_indexes], TARGET[valid_indexes]),\n",
    "                      verbose = 10,\n",
    "                      eval_metric='auc',\n",
    "                      early_stopping_rounds=25,\n",
    "                      categorical_feature = [2] )\n",
    "    MODELS.append( model )\n",
    "\n",
    "del TRAIN, TARGET\n",
    "_=gc.collect()"
   ]
  },
  {
   "cell_type": "code",
   "execution_count": 9,
   "metadata": {},
   "outputs": [
    {
     "name": "stderr",
     "output_type": "stream",
     "text": [
      "/opt/conda/lib/python3.6/site-packages/ipykernel_launcher.py:11: SettingWithCopyWarning: \n",
      "A value is trying to be set on a copy of a slice from a DataFrame.\n",
      "Try using .loc[row_indexer,col_indexer] = value instead\n",
      "\n",
      "See the caveats in the documentation: http://pandas.pydata.org/pandas-docs/stable/indexing.html#indexing-view-versus-copy\n",
      "  # This is added back by InteractiveShellApp.init_path()\n",
      "/opt/conda/lib/python3.6/site-packages/ipykernel_launcher.py:12: SettingWithCopyWarning: \n",
      "A value is trying to be set on a copy of a slice from a DataFrame.\n",
      "Try using .loc[row_indexer,col_indexer] = value instead\n",
      "\n",
      "See the caveats in the documentation: http://pandas.pydata.org/pandas-docs/stable/indexing.html#indexing-view-versus-copy\n",
      "  if sys.path[0] == '':\n"
     ]
    },
    {
     "name": "stdout",
     "output_type": "stream",
     "text": [
      "  ID_code    target\n",
      "0  test_0  0.795210\n",
      "1  test_1  0.875305\n",
      "2  test_2  0.845110\n",
      "3  test_3  0.868790\n",
      "4  test_4  0.742180\n",
      "5  test_5  0.068705\n",
      "6  test_6  0.109855\n",
      "7  test_7  0.640410\n",
      "8  test_8  0.055695\n",
      "9  test_9  0.164060\n"
     ]
    }
   ],
   "source": [
    "ypred = np.zeros( (200000,200) )\n",
    "for feat,var in enumerate(features):\n",
    "    tmp = var_to_feat(test_df[var], var_stats[var], int(var[4:]) )\n",
    "    tmp[:,0] = (tmp[:,0]-var_mean[var])/var_var[var]\n",
    "    for model_id in range(10):\n",
    "        model = MODELS[model_id]\n",
    "        ypred[:,feat] += model.predict_proba( tmp )[:,1] / 10.\n",
    "ypred = np.mean( logit(ypred), axis=1 )\n",
    "\n",
    "sub = test_df[['ID_code']]\n",
    "sub['target'] = ypred\n",
    "sub['target'] = sub['target'].rank() / 200000.\n",
    "sub.to_csv('golden_sub.csv', index=False)\n",
    "print( sub.head(10) )\n"
   ]
  },
  {
   "cell_type": "code",
   "execution_count": 10,
   "metadata": {},
   "outputs": [],
   "source": []
  }
 ],
 "metadata": {
  "kernelspec": {
   "display_name": "Python 3",
   "language": "python",
   "name": "python3"
  },
  "language_info": {
   "codemirror_mode": {
    "name": "ipython",
    "version": 3
   },
   "file_extension": ".py",
   "mimetype": "text/x-python",
   "name": "python",
   "nbconvert_exporter": "python",
   "pygments_lexer": "ipython3",
   "version": "3.6.4"
  }
 },
 "nbformat": 4,
 "nbformat_minor": 1
}
